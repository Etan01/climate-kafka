{
 "cells": [
  {
   "cell_type": "markdown",
   "metadata": {},
   "source": [
    "References:\n",
    "https://www.w3schools.com/python/pandas/ref_df_iterrows.asp"
   ]
  },
  {
   "cell_type": "code",
   "execution_count": 2,
   "metadata": {
    "scrolled": true
   },
   "outputs": [
    {
     "name": "stdout",
     "output_type": "stream",
     "text": [
      "Publishing records..\n",
      "Message published successfully. Data: {'latitude': -38.498, 'longitude': 146.95, 'air_temperature_celcius': 5.0, 'relative_humidity': 38.6, 'windspeed_knots': 1.8, 'max_wind_speed': 5.1, 'precipitation': 0.0, 'precipitation_type': 'I', 'GHI_w': 47, 'created_date': '2022-01-01T00:00:00'}\n",
      "Message published successfully. Data: {'latitude': -37.614, 'longitude': 143.451, 'air_temperature_celcius': 19.0, 'relative_humidity': 60.2, 'windspeed_knots': 6.4, 'max_wind_speed': 12.0, 'precipitation': 0.0, 'precipitation_type': 'I', 'GHI_w': 149, 'created_date': '2022-01-02T00:00:00'}\n"
     ]
    },
    {
     "ename": "KeyboardInterrupt",
     "evalue": "",
     "output_type": "error",
     "traceback": [
      "\u001b[0;31m---------------------------------------------------------------------------\u001b[0m",
      "\u001b[0;31mKeyboardInterrupt\u001b[0m                         Traceback (most recent call last)",
      "\u001b[0;32m<ipython-input-2-05397b8dc0c6>\u001b[0m in \u001b[0;36m<module>\u001b[0;34m\u001b[0m\n\u001b[1;32m     69\u001b[0m         \u001b[0;31m#key = 'producer1' which to be identified from consumers\u001b[0m\u001b[0;34m\u001b[0m\u001b[0;34m\u001b[0m\u001b[0;34m\u001b[0m\u001b[0m\n\u001b[1;32m     70\u001b[0m         \u001b[0mpublish_message\u001b[0m\u001b[0;34m(\u001b[0m\u001b[0mproducer\u001b[0m\u001b[0;34m,\u001b[0m \u001b[0mtopic\u001b[0m\u001b[0;34m,\u001b[0m \u001b[0;34m\"producer1\"\u001b[0m\u001b[0;34m,\u001b[0m \u001b[0mrandom_data\u001b[0m\u001b[0;34m)\u001b[0m\u001b[0;34m\u001b[0m\u001b[0;34m\u001b[0m\u001b[0m\n\u001b[0;32m---> 71\u001b[0;31m         \u001b[0msleep\u001b[0m\u001b[0;34m(\u001b[0m\u001b[0;36m10\u001b[0m\u001b[0;34m)\u001b[0m\u001b[0;34m\u001b[0m\u001b[0;34m\u001b[0m\u001b[0m\n\u001b[0m",
      "\u001b[0;31mKeyboardInterrupt\u001b[0m: "
     ]
    }
   ],
   "source": [
    "# import statements\n",
    "from time import sleep\n",
    "from json import dumps\n",
    "from kafka import KafkaProducer\n",
    "import random\n",
    "import pandas as pd\n",
    "import datetime as dt\n",
    "import json\n",
    "\n",
    "def read_file():\n",
    "    #Read csv file using pandas\n",
    "    climate = pd.read_csv(\"climate_streaming.csv\")\n",
    "    array = []\n",
    "    #iterrows is useful that it generates iterator of the Dataframe\n",
    "    #we call the variables easily by using the string index\n",
    "    for index, each in climate.iterrows():\n",
    "        row={}\n",
    "        row['latitude'] = round(float(each['latitude']), 4)    #Round up to 4 decimal number\n",
    "        row['longitude'] = round(float(each['longitude']), 4)  #Round up to 4 decimal number\n",
    "        row['air_temperature_celcius'] = float(each['air_temperature_celcius'])\n",
    "        row['relative_humidity'] = float(each['relative_humidity'])\n",
    "        row['windspeed_knots'] = float(each['windspeed_knots'])\n",
    "        row['max_wind_speed'] = float(each['max_wind_speed'])\n",
    "        row['precipitation'] = float((each['precipitation '])[0:-1])   #get the numeric value from precipitation\n",
    "        row['precipitation_type'] = each['precipitation '][-1]         #get the alphabet from the last digit \n",
    "        row['GHI_w'] = (each['GHI_w/m2'])    #rename the column \n",
    "        array.append(row)\n",
    "    return array\n",
    "\n",
    "def publish_message(producer_instance, topic_name, key, value):\n",
    "    try:\n",
    "        #json dumps convert the list into JSON string object\n",
    "        key_bytes = bytes(key, encoding='utf-8')\n",
    "        value_str = json.dumps(value, sort_keys=True, indent=4)\n",
    "        value_bytes = bytes(value_str, encoding='utf-8')\n",
    "        producer_instance.send(topic_name, key = key_bytes, value=value_bytes)\n",
    "        producer_instance.flush()\n",
    "        print('Message published successfully. Data: ' + str(value))\n",
    "    except Exception as ex:\n",
    "        print('Exception in publishing message.')\n",
    "        print(str(ex))\n",
    "\n",
    "def connect_kafka_producer():\n",
    "    _producer = None\n",
    "    try:\n",
    "        _producer = KafkaProducer(bootstrap_servers=['localhost:9092'],\n",
    "                                  api_version=(0, 10))\n",
    "    except Exception as ex:\n",
    "        print('Exception while connecting Kafka.')\n",
    "        print(str(ex))\n",
    "    finally:\n",
    "        return _producer\n",
    "\n",
    "if __name__ == '__main__':\n",
    "\n",
    "    topic = 'Asgn_PartB'\n",
    "    data = read_file()\n",
    "    print('Publishing records..')\n",
    "    producer = connect_kafka_producer()\n",
    "    latest_date = dt.datetime(2021, 12, 31) #Last date from historic CSV\n",
    "\n",
    "    for _ in range(len(data)):\n",
    "        random_number = random.randrange(0, len(data))\n",
    "        random_data = data[random_number]\n",
    "        #print(random_data)\n",
    "        latest_date += dt.timedelta(days=1)                   # Increase one day to the latest date\n",
    "        random_data['created_date'] = latest_date.isoformat() # Set date to string\n",
    "\n",
    "        #key = 'producer1' which to be identified from consumers\n",
    "        publish_message(producer, topic, \"producer1\", random_data)\n",
    "        sleep(10)"
   ]
  },
  {
   "cell_type": "code",
   "execution_count": null,
   "metadata": {},
   "outputs": [],
   "source": []
  }
 ],
 "metadata": {
  "kernelspec": {
   "display_name": "Python 3",
   "language": "python",
   "name": "python3"
  },
  "language_info": {
   "codemirror_mode": {
    "name": "ipython",
    "version": 3
   },
   "file_extension": ".py",
   "mimetype": "text/x-python",
   "name": "python",
   "nbconvert_exporter": "python",
   "pygments_lexer": "ipython3",
   "version": "3.8.10"
  }
 },
 "nbformat": 4,
 "nbformat_minor": 4
}
